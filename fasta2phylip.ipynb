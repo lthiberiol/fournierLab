{
 "cells": [
  {
   "cell_type": "markdown",
   "metadata": {},
   "source": [
    "<h2 align=center>make sure you have BioPython installed before running it!</h2>"
   ]
  },
  {
   "cell_type": "code",
   "execution_count": 5,
   "metadata": {},
   "outputs": [],
   "source": [
    "from Bio import SeqIO\n",
    "import sys\n",
    "import re"
   ]
  },
  {
   "cell_type": "code",
   "execution_count": 25,
   "metadata": {},
   "outputs": [],
   "source": [
    "aln_name   = sys.argv[0]\n",
    "fasta      = open(aln_name).read()\n",
    "taxa_names = re.findall('^>(\\S+?)[\\s|]', fasta, re.M)\n",
    "for count, name in enumerate(taxa_names):\n",
    "    fasta = re.sub('^>%s' % name, '>taxa_%i_ ' % count, fasta, flags=re.M)"
   ]
  },
  {
   "cell_type": "code",
   "execution_count": 26,
   "metadata": {},
   "outputs": [],
   "source": [
    "out = open('tmp.fas', 'w')\n",
    "out.write(fasta)\n",
    "out.close()"
   ]
  },
  {
   "cell_type": "code",
   "execution_count": 37,
   "metadata": {},
   "outputs": [],
   "source": [
    "SeqIO.convert('tmp.fas', 'fasta', 'tmp.phy', 'phylip')\n",
    "phylip = open('tmp.phy').read()\n",
    "for count, name in enumerate(taxa_names):\n",
    "    phylip = re.sub('^taxa_%i_\\s+' % count, '%s  ' % name, phylip, flags=re.M)"
   ]
  },
  {
   "cell_type": "code",
   "execution_count": 38,
   "metadata": {},
   "outputs": [],
   "source": [
    "out = open('%s.phy' % aln_name, 'w')\n",
    "out.write(phylip)\n",
    "out.close()"
   ]
  }
 ],
 "metadata": {
  "kernelspec": {
   "display_name": "Python 2",
   "language": "python",
   "name": "python2"
  },
  "language_info": {
   "codemirror_mode": {
    "name": "ipython",
    "version": 2
   },
   "file_extension": ".py",
   "mimetype": "text/x-python",
   "name": "python",
   "nbconvert_exporter": "python",
   "pygments_lexer": "ipython2",
   "version": "2.7.15"
  }
 },
 "nbformat": 4,
 "nbformat_minor": 2
}
